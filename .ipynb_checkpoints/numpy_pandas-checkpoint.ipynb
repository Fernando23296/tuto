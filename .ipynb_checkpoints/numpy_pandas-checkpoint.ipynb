{
 "cells": [
  {
   "cell_type": "code",
   "execution_count": 1,
   "metadata": {},
   "outputs": [],
   "source": [
    "import numpy as np"
   ]
  },
  {
   "cell_type": "code",
   "execution_count": 2,
   "metadata": {},
   "outputs": [
    {
     "ename": "TypeError",
     "evalue": "can't multiply sequence by non-int of type 'list'",
     "output_type": "error",
     "traceback": [
      "\u001b[0;31m---------------------------------------------------------------------------\u001b[0m",
      "\u001b[0;31mTypeError\u001b[0m                                 Traceback (most recent call last)",
      "\u001b[0;32m<ipython-input-2-9f92d5cc4dd9>\u001b[0m in \u001b[0;36m<module>\u001b[0;34m\u001b[0m\n\u001b[1;32m      1\u001b[0m \u001b[0ma\u001b[0m \u001b[0;34m=\u001b[0m \u001b[0;34m[\u001b[0m\u001b[0;36m2\u001b[0m\u001b[0;34m,\u001b[0m\u001b[0;36m3\u001b[0m\u001b[0;34m,\u001b[0m\u001b[0;36m4\u001b[0m\u001b[0;34m]\u001b[0m\u001b[0;34m\u001b[0m\u001b[0m\n\u001b[1;32m      2\u001b[0m \u001b[0mb\u001b[0m \u001b[0;34m=\u001b[0m \u001b[0;34m[\u001b[0m\u001b[0;36m1\u001b[0m\u001b[0;34m,\u001b[0m\u001b[0;36m2\u001b[0m\u001b[0;34m,\u001b[0m\u001b[0;36m2\u001b[0m\u001b[0;34m]\u001b[0m\u001b[0;34m\u001b[0m\u001b[0m\n\u001b[0;32m----> 3\u001b[0;31m \u001b[0mc\u001b[0m \u001b[0;34m=\u001b[0m \u001b[0ma\u001b[0m\u001b[0;34m*\u001b[0m\u001b[0mb\u001b[0m\u001b[0;34m\u001b[0m\u001b[0m\n\u001b[0m\u001b[1;32m      4\u001b[0m \u001b[0mprint\u001b[0m\u001b[0;34m(\u001b[0m\u001b[0mc\u001b[0m\u001b[0;34m)\u001b[0m\u001b[0;34m\u001b[0m\u001b[0m\n",
      "\u001b[0;31mTypeError\u001b[0m: can't multiply sequence by non-int of type 'list'"
     ]
    }
   ],
   "source": [
    "a = [2,3,4]\n",
    "b = [1,2,2]\n",
    "c = a*b\n",
    "print(c)"
   ]
  },
  {
   "cell_type": "code",
   "execution_count": 3,
   "metadata": {},
   "outputs": [
    {
     "name": "stdout",
     "output_type": "stream",
     "text": [
      "[2 6 8]\n"
     ]
    }
   ],
   "source": [
    "a = np.array(a)\n",
    "b = np.array(b)\n",
    "c = a*b\n",
    "print(c)"
   ]
  },
  {
   "cell_type": "markdown",
   "metadata": {},
   "source": [
    "# Numpy"
   ]
  },
  {
   "cell_type": "markdown",
   "metadata": {},
   "source": [
    "![Image of Numpy](https://upload.wikimedia.org/wikipedia/commons/1/1a/NumPy_logo.svg)"
   ]
  },
  {
   "cell_type": "code",
   "execution_count": 62,
   "metadata": {},
   "outputs": [],
   "source": [
    "a = np.array([1, 2, 3])   \n"
   ]
  },
  {
   "cell_type": "code",
   "execution_count": 63,
   "metadata": {},
   "outputs": [
    {
     "name": "stdout",
     "output_type": "stream",
     "text": [
      "<class 'numpy.ndarray'>\n"
     ]
    }
   ],
   "source": [
    "print(type(a))            \n"
   ]
  },
  {
   "cell_type": "code",
   "execution_count": 64,
   "metadata": {},
   "outputs": [
    {
     "name": "stdout",
     "output_type": "stream",
     "text": [
      "(3,)\n"
     ]
    }
   ],
   "source": [
    "print(a.shape)            \n"
   ]
  },
  {
   "cell_type": "code",
   "execution_count": 65,
   "metadata": {},
   "outputs": [
    {
     "name": "stdout",
     "output_type": "stream",
     "text": [
      "1 2 3\n"
     ]
    }
   ],
   "source": [
    "print(a[0], a[1], a[2])   \n"
   ]
  },
  {
   "cell_type": "code",
   "execution_count": 8,
   "metadata": {},
   "outputs": [
    {
     "name": "stdout",
     "output_type": "stream",
     "text": [
      "[5 2 3]\n"
     ]
    }
   ],
   "source": [
    "a[0] = 5                  \n",
    "print(a)                  \n",
    "\n"
   ]
  },
  {
   "cell_type": "code",
   "execution_count": 9,
   "metadata": {},
   "outputs": [
    {
     "name": "stdout",
     "output_type": "stream",
     "text": [
      "(2, 3)\n"
     ]
    }
   ],
   "source": [
    "b = np.array([[1,2,3],[4,5,6]])    \n",
    "print(b.shape)                     \n"
   ]
  },
  {
   "cell_type": "code",
   "execution_count": 10,
   "metadata": {},
   "outputs": [
    {
     "name": "stdout",
     "output_type": "stream",
     "text": [
      "1 2 4\n"
     ]
    }
   ],
   "source": [
    "print(b[0, 0], b[0, 1], b[1, 0]) "
   ]
  },
  {
   "cell_type": "code",
   "execution_count": 67,
   "metadata": {},
   "outputs": [
    {
     "name": "stdout",
     "output_type": "stream",
     "text": [
      "[[0. 0.]\n",
      " [0. 0.]\n",
      " [0. 0.]\n",
      " [0. 0.]\n",
      " [0. 0.]\n",
      " [0. 0.]\n",
      " [0. 0.]\n",
      " [0. 0.]\n",
      " [0. 0.]\n",
      " [0. 0.]]\n"
     ]
    }
   ],
   "source": [
    "a = np.zeros((10,2))   \n",
    "print(a)              \n",
    "                      \n",
    "   "
   ]
  },
  {
   "cell_type": "code",
   "execution_count": 68,
   "metadata": {},
   "outputs": [
    {
     "name": "stdout",
     "output_type": "stream",
     "text": [
      "[[1. 1. 1. 1. 1. 1. 1. 1. 1. 1.]\n",
      " [1. 1. 1. 1. 1. 1. 1. 1. 1. 1.]\n",
      " [1. 1. 1. 1. 1. 1. 1. 1. 1. 1.]\n",
      " [1. 1. 1. 1. 1. 1. 1. 1. 1. 1.]\n",
      " [1. 1. 1. 1. 1. 1. 1. 1. 1. 1.]\n",
      " [1. 1. 1. 1. 1. 1. 1. 1. 1. 1.]\n",
      " [1. 1. 1. 1. 1. 1. 1. 1. 1. 1.]\n",
      " [1. 1. 1. 1. 1. 1. 1. 1. 1. 1.]\n",
      " [1. 1. 1. 1. 1. 1. 1. 1. 1. 1.]\n",
      " [1. 1. 1. 1. 1. 1. 1. 1. 1. 1.]]\n"
     ]
    }
   ],
   "source": [
    "\n",
    "b = np.ones((10,10))    \n",
    "print(b)              \n"
   ]
  },
  {
   "cell_type": "code",
   "execution_count": 70,
   "metadata": {},
   "outputs": [
    {
     "name": "stdout",
     "output_type": "stream",
     "text": [
      "[[9 9 9 9 9 9 9 9 9 9]\n",
      " [9 9 9 9 9 9 9 9 9 9]\n",
      " [9 9 9 9 9 9 9 9 9 9]\n",
      " [9 9 9 9 9 9 9 9 9 9]\n",
      " [9 9 9 9 9 9 9 9 9 9]\n",
      " [9 9 9 9 9 9 9 9 9 9]\n",
      " [9 9 9 9 9 9 9 9 9 9]\n",
      " [9 9 9 9 9 9 9 9 9 9]\n",
      " [9 9 9 9 9 9 9 9 9 9]\n",
      " [9 9 9 9 9 9 9 9 9 9]]\n"
     ]
    }
   ],
   "source": [
    "\n",
    "c = np.full((10,10), 9)  \n",
    "print(c)               \n",
    "                       \n",
    "\n",
    " "
   ]
  },
  {
   "cell_type": "code",
   "execution_count": 14,
   "metadata": {},
   "outputs": [
    {
     "name": "stdout",
     "output_type": "stream",
     "text": [
      "[[1. 0.]\n",
      " [0. 1.]]\n"
     ]
    }
   ],
   "source": [
    "d = np.eye(2)         \n",
    "print(d)              \n",
    "                      \n",
    "\n",
    " "
   ]
  },
  {
   "cell_type": "code",
   "execution_count": 15,
   "metadata": {},
   "outputs": [
    {
     "name": "stdout",
     "output_type": "stream",
     "text": [
      "[[0.84173355 0.08769443]\n",
      " [0.42690228 0.27920667]]\n"
     ]
    }
   ],
   "source": [
    "e = np.random.random((2,2))  \n",
    "print(e)"
   ]
  },
  {
   "cell_type": "markdown",
   "metadata": {},
   "source": [
    "# Pandas"
   ]
  },
  {
   "cell_type": "markdown",
   "metadata": {},
   "source": [
    "![Image of Pandas](https://media1.tenor.com/images/565f4b7c79249d9ef38450894216826f/tenor.gif?itemid=8677642)"
   ]
  },
  {
   "cell_type": "code",
   "execution_count": 2,
   "metadata": {},
   "outputs": [],
   "source": [
    "import pandas as pd\n"
   ]
  },
  {
   "cell_type": "code",
   "execution_count": 3,
   "metadata": {},
   "outputs": [
    {
     "name": "stdout",
     "output_type": "stream",
     "text": [
      "0.24.2\n"
     ]
    }
   ],
   "source": [
    "print(pd.__version__)"
   ]
  },
  {
   "cell_type": "code",
   "execution_count": 5,
   "metadata": {},
   "outputs": [],
   "source": [
    "dataset=pd.read_csv(\"Chocolateria.csv\",sep=\",\")"
   ]
  },
  {
   "cell_type": "code",
   "execution_count": 6,
   "metadata": {},
   "outputs": [
    {
     "data": {
      "text/html": [
       "<div>\n",
       "<style scoped>\n",
       "    .dataframe tbody tr th:only-of-type {\n",
       "        vertical-align: middle;\n",
       "    }\n",
       "\n",
       "    .dataframe tbody tr th {\n",
       "        vertical-align: top;\n",
       "    }\n",
       "\n",
       "    .dataframe thead th {\n",
       "        text-align: right;\n",
       "    }\n",
       "</style>\n",
       "<table border=\"1\" class=\"dataframe\">\n",
       "  <thead>\n",
       "    <tr style=\"text-align: right;\">\n",
       "      <th></th>\n",
       "      <th>Nombre</th>\n",
       "      <th>Apellido</th>\n",
       "      <th>Edad</th>\n",
       "      <th>Genero</th>\n",
       "      <th>¿Le gusta el chocolate?</th>\n",
       "      <th>¿Del 1 al 10 que tanto le gusta?</th>\n",
       "      <th>¿Cuantos chocolates consume en una semana?</th>\n",
       "      <th>¿Compraria un chocolate azul?</th>\n",
       "    </tr>\n",
       "  </thead>\n",
       "  <tbody>\n",
       "    <tr>\n",
       "      <th>0</th>\n",
       "      <td>Felipe</td>\n",
       "      <td>Guzman</td>\n",
       "      <td>12</td>\n",
       "      <td>M</td>\n",
       "      <td>Si</td>\n",
       "      <td>9</td>\n",
       "      <td>6</td>\n",
       "      <td>Si</td>\n",
       "    </tr>\n",
       "    <tr>\n",
       "      <th>1</th>\n",
       "      <td>Alcira</td>\n",
       "      <td>Lopez</td>\n",
       "      <td>23</td>\n",
       "      <td>F</td>\n",
       "      <td>Si</td>\n",
       "      <td>5</td>\n",
       "      <td>2</td>\n",
       "      <td>No</td>\n",
       "    </tr>\n",
       "    <tr>\n",
       "      <th>2</th>\n",
       "      <td>John</td>\n",
       "      <td>Marquez</td>\n",
       "      <td>18</td>\n",
       "      <td>M</td>\n",
       "      <td>No</td>\n",
       "      <td>0</td>\n",
       "      <td>0</td>\n",
       "      <td>No</td>\n",
       "    </tr>\n",
       "    <tr>\n",
       "      <th>3</th>\n",
       "      <td>Julian</td>\n",
       "      <td>Casablancas</td>\n",
       "      <td>20</td>\n",
       "      <td>M</td>\n",
       "      <td>No</td>\n",
       "      <td>0</td>\n",
       "      <td>0</td>\n",
       "      <td>Si</td>\n",
       "    </tr>\n",
       "    <tr>\n",
       "      <th>4</th>\n",
       "      <td>Milton</td>\n",
       "      <td>Donoso</td>\n",
       "      <td>19</td>\n",
       "      <td>M</td>\n",
       "      <td>Si</td>\n",
       "      <td>7</td>\n",
       "      <td>4</td>\n",
       "      <td>No</td>\n",
       "    </tr>\n",
       "    <tr>\n",
       "      <th>5</th>\n",
       "      <td>Lupe</td>\n",
       "      <td>Mesa</td>\n",
       "      <td>15</td>\n",
       "      <td>F</td>\n",
       "      <td>No</td>\n",
       "      <td>0</td>\n",
       "      <td>0</td>\n",
       "      <td>No</td>\n",
       "    </tr>\n",
       "    <tr>\n",
       "      <th>6</th>\n",
       "      <td>Adriana</td>\n",
       "      <td>Pinto</td>\n",
       "      <td>14</td>\n",
       "      <td>F</td>\n",
       "      <td>Si</td>\n",
       "      <td>6</td>\n",
       "      <td>3</td>\n",
       "      <td>Si</td>\n",
       "    </tr>\n",
       "    <tr>\n",
       "      <th>7</th>\n",
       "      <td>Maria</td>\n",
       "      <td>Murillo</td>\n",
       "      <td>18</td>\n",
       "      <td>F</td>\n",
       "      <td>Si</td>\n",
       "      <td>10</td>\n",
       "      <td>9</td>\n",
       "      <td>No</td>\n",
       "    </tr>\n",
       "    <tr>\n",
       "      <th>8</th>\n",
       "      <td>Pedro</td>\n",
       "      <td>Fernandez</td>\n",
       "      <td>21</td>\n",
       "      <td>M</td>\n",
       "      <td>Si</td>\n",
       "      <td>9</td>\n",
       "      <td>5</td>\n",
       "      <td>Si</td>\n",
       "    </tr>\n",
       "    <tr>\n",
       "      <th>9</th>\n",
       "      <td>Lian</td>\n",
       "      <td>Calle</td>\n",
       "      <td>21</td>\n",
       "      <td>F</td>\n",
       "      <td>No</td>\n",
       "      <td>0</td>\n",
       "      <td>0</td>\n",
       "      <td>No</td>\n",
       "    </tr>\n",
       "  </tbody>\n",
       "</table>\n",
       "</div>"
      ],
      "text/plain": [
       "    Nombre     Apellido  Edad Genero ¿Le gusta el chocolate?  \\\n",
       "0   Felipe       Guzman    12      M                      Si   \n",
       "1   Alcira        Lopez    23      F                      Si   \n",
       "2     John      Marquez    18      M                      No   \n",
       "3   Julian  Casablancas    20      M                      No   \n",
       "4   Milton       Donoso    19      M                      Si   \n",
       "5     Lupe         Mesa    15      F                      No   \n",
       "6  Adriana        Pinto    14      F                      Si   \n",
       "7    Maria      Murillo    18      F                      Si   \n",
       "8    Pedro    Fernandez    21      M                      Si   \n",
       "9     Lian        Calle    21      F                      No   \n",
       "\n",
       "   ¿Del 1 al 10 que tanto le gusta?  \\\n",
       "0                                 9   \n",
       "1                                 5   \n",
       "2                                 0   \n",
       "3                                 0   \n",
       "4                                 7   \n",
       "5                                 0   \n",
       "6                                 6   \n",
       "7                                10   \n",
       "8                                 9   \n",
       "9                                 0   \n",
       "\n",
       "   ¿Cuantos chocolates consume en una semana? ¿Compraria un chocolate azul?  \n",
       "0                                           6                            Si  \n",
       "1                                           2                            No  \n",
       "2                                           0                            No  \n",
       "3                                           0                            Si  \n",
       "4                                           4                            No  \n",
       "5                                           0                            No  \n",
       "6                                           3                            Si  \n",
       "7                                           9                            No  \n",
       "8                                           5                            Si  \n",
       "9                                           0                            No  "
      ]
     },
     "execution_count": 6,
     "metadata": {},
     "output_type": "execute_result"
    }
   ],
   "source": [
    "dataset"
   ]
  },
  {
   "cell_type": "code",
   "execution_count": 20,
   "metadata": {},
   "outputs": [
    {
     "name": "stdout",
     "output_type": "stream",
     "text": [
      "<class 'pandas.core.frame.DataFrame'>\n",
      "RangeIndex: 10 entries, 0 to 9\n",
      "Data columns (total 8 columns):\n",
      "Nombre                                        10 non-null object\n",
      "Apellido                                      10 non-null object\n",
      "Edad                                          10 non-null int64\n",
      "Genero                                        10 non-null object\n",
      "¿Le gusta el chocolate?                       10 non-null object\n",
      "¿Del 1 al 10 que tanto le gusta?              10 non-null int64\n",
      "¿Cuantos chocolates consume en una semana?    10 non-null int64\n",
      "¿Compraria un chocolate azul?                 10 non-null object\n",
      "dtypes: int64(3), object(5)\n",
      "memory usage: 720.0+ bytes\n"
     ]
    }
   ],
   "source": [
    "dataset.info()"
   ]
  },
  {
   "cell_type": "code",
   "execution_count": 21,
   "metadata": {},
   "outputs": [
    {
     "data": {
      "text/html": [
       "<div>\n",
       "<style scoped>\n",
       "    .dataframe tbody tr th:only-of-type {\n",
       "        vertical-align: middle;\n",
       "    }\n",
       "\n",
       "    .dataframe tbody tr th {\n",
       "        vertical-align: top;\n",
       "    }\n",
       "\n",
       "    .dataframe thead th {\n",
       "        text-align: right;\n",
       "    }\n",
       "</style>\n",
       "<table border=\"1\" class=\"dataframe\">\n",
       "  <thead>\n",
       "    <tr style=\"text-align: right;\">\n",
       "      <th></th>\n",
       "      <th>Nombre</th>\n",
       "      <th>Apellido</th>\n",
       "      <th>Edad</th>\n",
       "      <th>Genero</th>\n",
       "      <th>¿Le gusta el chocolate?</th>\n",
       "      <th>¿Del 1 al 10 que tanto le gusta?</th>\n",
       "      <th>¿Cuantos chocolates consume en una semana?</th>\n",
       "      <th>¿Compraria un chocolate azul?</th>\n",
       "    </tr>\n",
       "  </thead>\n",
       "  <tbody>\n",
       "    <tr>\n",
       "      <th>0</th>\n",
       "      <td>Felipe</td>\n",
       "      <td>Guzman</td>\n",
       "      <td>12</td>\n",
       "      <td>M</td>\n",
       "      <td>Si</td>\n",
       "      <td>9</td>\n",
       "      <td>6</td>\n",
       "      <td>Si</td>\n",
       "    </tr>\n",
       "    <tr>\n",
       "      <th>1</th>\n",
       "      <td>Alcira</td>\n",
       "      <td>Lopez</td>\n",
       "      <td>23</td>\n",
       "      <td>F</td>\n",
       "      <td>Si</td>\n",
       "      <td>5</td>\n",
       "      <td>2</td>\n",
       "      <td>No</td>\n",
       "    </tr>\n",
       "    <tr>\n",
       "      <th>2</th>\n",
       "      <td>John</td>\n",
       "      <td>Marquez</td>\n",
       "      <td>18</td>\n",
       "      <td>M</td>\n",
       "      <td>No</td>\n",
       "      <td>0</td>\n",
       "      <td>0</td>\n",
       "      <td>No</td>\n",
       "    </tr>\n",
       "  </tbody>\n",
       "</table>\n",
       "</div>"
      ],
      "text/plain": [
       "   Nombre Apellido  Edad Genero ¿Le gusta el chocolate?  \\\n",
       "0  Felipe   Guzman    12      M                      Si   \n",
       "1  Alcira    Lopez    23      F                      Si   \n",
       "2    John  Marquez    18      M                      No   \n",
       "\n",
       "   ¿Del 1 al 10 que tanto le gusta?  \\\n",
       "0                                 9   \n",
       "1                                 5   \n",
       "2                                 0   \n",
       "\n",
       "   ¿Cuantos chocolates consume en una semana? ¿Compraria un chocolate azul?  \n",
       "0                                           6                            Si  \n",
       "1                                           2                            No  \n",
       "2                                           0                            No  "
      ]
     },
     "execution_count": 21,
     "metadata": {},
     "output_type": "execute_result"
    }
   ],
   "source": [
    "dataset.head(3)"
   ]
  },
  {
   "cell_type": "code",
   "execution_count": 22,
   "metadata": {},
   "outputs": [],
   "source": [
    "dataset['Genero'].replace(['F','M'],[0,1],inplace=True)"
   ]
  },
  {
   "cell_type": "code",
   "execution_count": 23,
   "metadata": {},
   "outputs": [
    {
     "data": {
      "text/html": [
       "<div>\n",
       "<style scoped>\n",
       "    .dataframe tbody tr th:only-of-type {\n",
       "        vertical-align: middle;\n",
       "    }\n",
       "\n",
       "    .dataframe tbody tr th {\n",
       "        vertical-align: top;\n",
       "    }\n",
       "\n",
       "    .dataframe thead th {\n",
       "        text-align: right;\n",
       "    }\n",
       "</style>\n",
       "<table border=\"1\" class=\"dataframe\">\n",
       "  <thead>\n",
       "    <tr style=\"text-align: right;\">\n",
       "      <th></th>\n",
       "      <th>Nombre</th>\n",
       "      <th>Apellido</th>\n",
       "      <th>Edad</th>\n",
       "      <th>Genero</th>\n",
       "      <th>¿Le gusta el chocolate?</th>\n",
       "      <th>¿Del 1 al 10 que tanto le gusta?</th>\n",
       "      <th>¿Cuantos chocolates consume en una semana?</th>\n",
       "      <th>¿Compraria un chocolate azul?</th>\n",
       "    </tr>\n",
       "  </thead>\n",
       "  <tbody>\n",
       "    <tr>\n",
       "      <th>0</th>\n",
       "      <td>Felipe</td>\n",
       "      <td>Guzman</td>\n",
       "      <td>12</td>\n",
       "      <td>1</td>\n",
       "      <td>Si</td>\n",
       "      <td>9</td>\n",
       "      <td>6</td>\n",
       "      <td>Si</td>\n",
       "    </tr>\n",
       "    <tr>\n",
       "      <th>1</th>\n",
       "      <td>Alcira</td>\n",
       "      <td>Lopez</td>\n",
       "      <td>23</td>\n",
       "      <td>0</td>\n",
       "      <td>Si</td>\n",
       "      <td>5</td>\n",
       "      <td>2</td>\n",
       "      <td>No</td>\n",
       "    </tr>\n",
       "    <tr>\n",
       "      <th>2</th>\n",
       "      <td>John</td>\n",
       "      <td>Marquez</td>\n",
       "      <td>18</td>\n",
       "      <td>1</td>\n",
       "      <td>No</td>\n",
       "      <td>0</td>\n",
       "      <td>0</td>\n",
       "      <td>No</td>\n",
       "    </tr>\n",
       "    <tr>\n",
       "      <th>3</th>\n",
       "      <td>Julian</td>\n",
       "      <td>Casablancas</td>\n",
       "      <td>20</td>\n",
       "      <td>1</td>\n",
       "      <td>No</td>\n",
       "      <td>0</td>\n",
       "      <td>0</td>\n",
       "      <td>Si</td>\n",
       "    </tr>\n",
       "    <tr>\n",
       "      <th>4</th>\n",
       "      <td>Milton</td>\n",
       "      <td>Donoso</td>\n",
       "      <td>19</td>\n",
       "      <td>1</td>\n",
       "      <td>Si</td>\n",
       "      <td>7</td>\n",
       "      <td>4</td>\n",
       "      <td>No</td>\n",
       "    </tr>\n",
       "    <tr>\n",
       "      <th>5</th>\n",
       "      <td>Lupe</td>\n",
       "      <td>Mesa</td>\n",
       "      <td>15</td>\n",
       "      <td>0</td>\n",
       "      <td>No</td>\n",
       "      <td>0</td>\n",
       "      <td>0</td>\n",
       "      <td>Si</td>\n",
       "    </tr>\n",
       "    <tr>\n",
       "      <th>6</th>\n",
       "      <td>Adriana</td>\n",
       "      <td>Pinto</td>\n",
       "      <td>14</td>\n",
       "      <td>0</td>\n",
       "      <td>Si</td>\n",
       "      <td>6</td>\n",
       "      <td>3</td>\n",
       "      <td>Si</td>\n",
       "    </tr>\n",
       "    <tr>\n",
       "      <th>7</th>\n",
       "      <td>Maria</td>\n",
       "      <td>Murillo</td>\n",
       "      <td>18</td>\n",
       "      <td>0</td>\n",
       "      <td>Si</td>\n",
       "      <td>10</td>\n",
       "      <td>7</td>\n",
       "      <td>No</td>\n",
       "    </tr>\n",
       "    <tr>\n",
       "      <th>8</th>\n",
       "      <td>Pedro</td>\n",
       "      <td>Fernandez</td>\n",
       "      <td>21</td>\n",
       "      <td>1</td>\n",
       "      <td>Si</td>\n",
       "      <td>9</td>\n",
       "      <td>5</td>\n",
       "      <td>Si</td>\n",
       "    </tr>\n",
       "    <tr>\n",
       "      <th>9</th>\n",
       "      <td>Lian</td>\n",
       "      <td>Calle</td>\n",
       "      <td>21</td>\n",
       "      <td>0</td>\n",
       "      <td>No</td>\n",
       "      <td>0</td>\n",
       "      <td>0</td>\n",
       "      <td>No</td>\n",
       "    </tr>\n",
       "  </tbody>\n",
       "</table>\n",
       "</div>"
      ],
      "text/plain": [
       "    Nombre     Apellido  Edad  Genero ¿Le gusta el chocolate?  \\\n",
       "0   Felipe       Guzman    12       1                      Si   \n",
       "1   Alcira        Lopez    23       0                      Si   \n",
       "2     John      Marquez    18       1                      No   \n",
       "3   Julian  Casablancas    20       1                      No   \n",
       "4   Milton       Donoso    19       1                      Si   \n",
       "5     Lupe         Mesa    15       0                      No   \n",
       "6  Adriana        Pinto    14       0                      Si   \n",
       "7    Maria      Murillo    18       0                      Si   \n",
       "8    Pedro    Fernandez    21       1                      Si   \n",
       "9     Lian        Calle    21       0                      No   \n",
       "\n",
       "   ¿Del 1 al 10 que tanto le gusta?  \\\n",
       "0                                 9   \n",
       "1                                 5   \n",
       "2                                 0   \n",
       "3                                 0   \n",
       "4                                 7   \n",
       "5                                 0   \n",
       "6                                 6   \n",
       "7                                10   \n",
       "8                                 9   \n",
       "9                                 0   \n",
       "\n",
       "   ¿Cuantos chocolates consume en una semana? ¿Compraria un chocolate azul?  \n",
       "0                                           6                            Si  \n",
       "1                                           2                            No  \n",
       "2                                           0                            No  \n",
       "3                                           0                            Si  \n",
       "4                                           4                            No  \n",
       "5                                           0                            Si  \n",
       "6                                           3                            Si  \n",
       "7                                           7                            No  \n",
       "8                                           5                            Si  \n",
       "9                                           0                            No  "
      ]
     },
     "execution_count": 23,
     "metadata": {},
     "output_type": "execute_result"
    }
   ],
   "source": [
    "dataset"
   ]
  },
  {
   "cell_type": "code",
   "execution_count": 24,
   "metadata": {},
   "outputs": [],
   "source": [
    "dataset[\"¿Le gusta el chocolate?\"].replace([\"Si\",\"No\"],[1,0],inplace=True)"
   ]
  },
  {
   "cell_type": "code",
   "execution_count": 25,
   "metadata": {},
   "outputs": [
    {
     "data": {
      "text/html": [
       "<div>\n",
       "<style scoped>\n",
       "    .dataframe tbody tr th:only-of-type {\n",
       "        vertical-align: middle;\n",
       "    }\n",
       "\n",
       "    .dataframe tbody tr th {\n",
       "        vertical-align: top;\n",
       "    }\n",
       "\n",
       "    .dataframe thead th {\n",
       "        text-align: right;\n",
       "    }\n",
       "</style>\n",
       "<table border=\"1\" class=\"dataframe\">\n",
       "  <thead>\n",
       "    <tr style=\"text-align: right;\">\n",
       "      <th></th>\n",
       "      <th>Nombre</th>\n",
       "      <th>Apellido</th>\n",
       "      <th>Edad</th>\n",
       "      <th>Genero</th>\n",
       "      <th>¿Le gusta el chocolate?</th>\n",
       "      <th>¿Del 1 al 10 que tanto le gusta?</th>\n",
       "      <th>¿Cuantos chocolates consume en una semana?</th>\n",
       "      <th>¿Compraria un chocolate azul?</th>\n",
       "    </tr>\n",
       "  </thead>\n",
       "  <tbody>\n",
       "    <tr>\n",
       "      <th>0</th>\n",
       "      <td>Felipe</td>\n",
       "      <td>Guzman</td>\n",
       "      <td>12</td>\n",
       "      <td>1</td>\n",
       "      <td>1</td>\n",
       "      <td>9</td>\n",
       "      <td>6</td>\n",
       "      <td>Si</td>\n",
       "    </tr>\n",
       "    <tr>\n",
       "      <th>1</th>\n",
       "      <td>Alcira</td>\n",
       "      <td>Lopez</td>\n",
       "      <td>23</td>\n",
       "      <td>0</td>\n",
       "      <td>1</td>\n",
       "      <td>5</td>\n",
       "      <td>2</td>\n",
       "      <td>No</td>\n",
       "    </tr>\n",
       "    <tr>\n",
       "      <th>2</th>\n",
       "      <td>John</td>\n",
       "      <td>Marquez</td>\n",
       "      <td>18</td>\n",
       "      <td>1</td>\n",
       "      <td>0</td>\n",
       "      <td>0</td>\n",
       "      <td>0</td>\n",
       "      <td>No</td>\n",
       "    </tr>\n",
       "    <tr>\n",
       "      <th>3</th>\n",
       "      <td>Julian</td>\n",
       "      <td>Casablancas</td>\n",
       "      <td>20</td>\n",
       "      <td>1</td>\n",
       "      <td>0</td>\n",
       "      <td>0</td>\n",
       "      <td>0</td>\n",
       "      <td>Si</td>\n",
       "    </tr>\n",
       "    <tr>\n",
       "      <th>4</th>\n",
       "      <td>Milton</td>\n",
       "      <td>Donoso</td>\n",
       "      <td>19</td>\n",
       "      <td>1</td>\n",
       "      <td>1</td>\n",
       "      <td>7</td>\n",
       "      <td>4</td>\n",
       "      <td>No</td>\n",
       "    </tr>\n",
       "    <tr>\n",
       "      <th>5</th>\n",
       "      <td>Lupe</td>\n",
       "      <td>Mesa</td>\n",
       "      <td>15</td>\n",
       "      <td>0</td>\n",
       "      <td>0</td>\n",
       "      <td>0</td>\n",
       "      <td>0</td>\n",
       "      <td>Si</td>\n",
       "    </tr>\n",
       "    <tr>\n",
       "      <th>6</th>\n",
       "      <td>Adriana</td>\n",
       "      <td>Pinto</td>\n",
       "      <td>14</td>\n",
       "      <td>0</td>\n",
       "      <td>1</td>\n",
       "      <td>6</td>\n",
       "      <td>3</td>\n",
       "      <td>Si</td>\n",
       "    </tr>\n",
       "    <tr>\n",
       "      <th>7</th>\n",
       "      <td>Maria</td>\n",
       "      <td>Murillo</td>\n",
       "      <td>18</td>\n",
       "      <td>0</td>\n",
       "      <td>1</td>\n",
       "      <td>10</td>\n",
       "      <td>7</td>\n",
       "      <td>No</td>\n",
       "    </tr>\n",
       "    <tr>\n",
       "      <th>8</th>\n",
       "      <td>Pedro</td>\n",
       "      <td>Fernandez</td>\n",
       "      <td>21</td>\n",
       "      <td>1</td>\n",
       "      <td>1</td>\n",
       "      <td>9</td>\n",
       "      <td>5</td>\n",
       "      <td>Si</td>\n",
       "    </tr>\n",
       "    <tr>\n",
       "      <th>9</th>\n",
       "      <td>Lian</td>\n",
       "      <td>Calle</td>\n",
       "      <td>21</td>\n",
       "      <td>0</td>\n",
       "      <td>0</td>\n",
       "      <td>0</td>\n",
       "      <td>0</td>\n",
       "      <td>No</td>\n",
       "    </tr>\n",
       "  </tbody>\n",
       "</table>\n",
       "</div>"
      ],
      "text/plain": [
       "    Nombre     Apellido  Edad  Genero  ¿Le gusta el chocolate?  \\\n",
       "0   Felipe       Guzman    12       1                        1   \n",
       "1   Alcira        Lopez    23       0                        1   \n",
       "2     John      Marquez    18       1                        0   \n",
       "3   Julian  Casablancas    20       1                        0   \n",
       "4   Milton       Donoso    19       1                        1   \n",
       "5     Lupe         Mesa    15       0                        0   \n",
       "6  Adriana        Pinto    14       0                        1   \n",
       "7    Maria      Murillo    18       0                        1   \n",
       "8    Pedro    Fernandez    21       1                        1   \n",
       "9     Lian        Calle    21       0                        0   \n",
       "\n",
       "   ¿Del 1 al 10 que tanto le gusta?  \\\n",
       "0                                 9   \n",
       "1                                 5   \n",
       "2                                 0   \n",
       "3                                 0   \n",
       "4                                 7   \n",
       "5                                 0   \n",
       "6                                 6   \n",
       "7                                10   \n",
       "8                                 9   \n",
       "9                                 0   \n",
       "\n",
       "   ¿Cuantos chocolates consume en una semana? ¿Compraria un chocolate azul?  \n",
       "0                                           6                            Si  \n",
       "1                                           2                            No  \n",
       "2                                           0                            No  \n",
       "3                                           0                            Si  \n",
       "4                                           4                            No  \n",
       "5                                           0                            Si  \n",
       "6                                           3                            Si  \n",
       "7                                           7                            No  \n",
       "8                                           5                            Si  \n",
       "9                                           0                            No  "
      ]
     },
     "execution_count": 25,
     "metadata": {},
     "output_type": "execute_result"
    }
   ],
   "source": [
    "dataset"
   ]
  },
  {
   "cell_type": "code",
   "execution_count": 26,
   "metadata": {},
   "outputs": [],
   "source": [
    "dataset[\"¿Compraria un chocolate azul?\"].replace([\"Si\",\"No\"],[1,0],inplace=True)"
   ]
  },
  {
   "cell_type": "code",
   "execution_count": 27,
   "metadata": {},
   "outputs": [
    {
     "data": {
      "text/html": [
       "<div>\n",
       "<style scoped>\n",
       "    .dataframe tbody tr th:only-of-type {\n",
       "        vertical-align: middle;\n",
       "    }\n",
       "\n",
       "    .dataframe tbody tr th {\n",
       "        vertical-align: top;\n",
       "    }\n",
       "\n",
       "    .dataframe thead th {\n",
       "        text-align: right;\n",
       "    }\n",
       "</style>\n",
       "<table border=\"1\" class=\"dataframe\">\n",
       "  <thead>\n",
       "    <tr style=\"text-align: right;\">\n",
       "      <th></th>\n",
       "      <th>Nombre</th>\n",
       "      <th>Apellido</th>\n",
       "      <th>Edad</th>\n",
       "      <th>Genero</th>\n",
       "      <th>¿Le gusta el chocolate?</th>\n",
       "      <th>¿Del 1 al 10 que tanto le gusta?</th>\n",
       "      <th>¿Cuantos chocolates consume en una semana?</th>\n",
       "      <th>¿Compraria un chocolate azul?</th>\n",
       "    </tr>\n",
       "  </thead>\n",
       "  <tbody>\n",
       "    <tr>\n",
       "      <th>0</th>\n",
       "      <td>Felipe</td>\n",
       "      <td>Guzman</td>\n",
       "      <td>12</td>\n",
       "      <td>1</td>\n",
       "      <td>1</td>\n",
       "      <td>9</td>\n",
       "      <td>6</td>\n",
       "      <td>1</td>\n",
       "    </tr>\n",
       "    <tr>\n",
       "      <th>1</th>\n",
       "      <td>Alcira</td>\n",
       "      <td>Lopez</td>\n",
       "      <td>23</td>\n",
       "      <td>0</td>\n",
       "      <td>1</td>\n",
       "      <td>5</td>\n",
       "      <td>2</td>\n",
       "      <td>0</td>\n",
       "    </tr>\n",
       "    <tr>\n",
       "      <th>2</th>\n",
       "      <td>John</td>\n",
       "      <td>Marquez</td>\n",
       "      <td>18</td>\n",
       "      <td>1</td>\n",
       "      <td>0</td>\n",
       "      <td>0</td>\n",
       "      <td>0</td>\n",
       "      <td>0</td>\n",
       "    </tr>\n",
       "    <tr>\n",
       "      <th>3</th>\n",
       "      <td>Julian</td>\n",
       "      <td>Casablancas</td>\n",
       "      <td>20</td>\n",
       "      <td>1</td>\n",
       "      <td>0</td>\n",
       "      <td>0</td>\n",
       "      <td>0</td>\n",
       "      <td>1</td>\n",
       "    </tr>\n",
       "    <tr>\n",
       "      <th>4</th>\n",
       "      <td>Milton</td>\n",
       "      <td>Donoso</td>\n",
       "      <td>19</td>\n",
       "      <td>1</td>\n",
       "      <td>1</td>\n",
       "      <td>7</td>\n",
       "      <td>4</td>\n",
       "      <td>0</td>\n",
       "    </tr>\n",
       "    <tr>\n",
       "      <th>5</th>\n",
       "      <td>Lupe</td>\n",
       "      <td>Mesa</td>\n",
       "      <td>15</td>\n",
       "      <td>0</td>\n",
       "      <td>0</td>\n",
       "      <td>0</td>\n",
       "      <td>0</td>\n",
       "      <td>1</td>\n",
       "    </tr>\n",
       "    <tr>\n",
       "      <th>6</th>\n",
       "      <td>Adriana</td>\n",
       "      <td>Pinto</td>\n",
       "      <td>14</td>\n",
       "      <td>0</td>\n",
       "      <td>1</td>\n",
       "      <td>6</td>\n",
       "      <td>3</td>\n",
       "      <td>1</td>\n",
       "    </tr>\n",
       "    <tr>\n",
       "      <th>7</th>\n",
       "      <td>Maria</td>\n",
       "      <td>Murillo</td>\n",
       "      <td>18</td>\n",
       "      <td>0</td>\n",
       "      <td>1</td>\n",
       "      <td>10</td>\n",
       "      <td>7</td>\n",
       "      <td>0</td>\n",
       "    </tr>\n",
       "    <tr>\n",
       "      <th>8</th>\n",
       "      <td>Pedro</td>\n",
       "      <td>Fernandez</td>\n",
       "      <td>21</td>\n",
       "      <td>1</td>\n",
       "      <td>1</td>\n",
       "      <td>9</td>\n",
       "      <td>5</td>\n",
       "      <td>1</td>\n",
       "    </tr>\n",
       "    <tr>\n",
       "      <th>9</th>\n",
       "      <td>Lian</td>\n",
       "      <td>Calle</td>\n",
       "      <td>21</td>\n",
       "      <td>0</td>\n",
       "      <td>0</td>\n",
       "      <td>0</td>\n",
       "      <td>0</td>\n",
       "      <td>0</td>\n",
       "    </tr>\n",
       "  </tbody>\n",
       "</table>\n",
       "</div>"
      ],
      "text/plain": [
       "    Nombre     Apellido  Edad  Genero  ¿Le gusta el chocolate?  \\\n",
       "0   Felipe       Guzman    12       1                        1   \n",
       "1   Alcira        Lopez    23       0                        1   \n",
       "2     John      Marquez    18       1                        0   \n",
       "3   Julian  Casablancas    20       1                        0   \n",
       "4   Milton       Donoso    19       1                        1   \n",
       "5     Lupe         Mesa    15       0                        0   \n",
       "6  Adriana        Pinto    14       0                        1   \n",
       "7    Maria      Murillo    18       0                        1   \n",
       "8    Pedro    Fernandez    21       1                        1   \n",
       "9     Lian        Calle    21       0                        0   \n",
       "\n",
       "   ¿Del 1 al 10 que tanto le gusta?  \\\n",
       "0                                 9   \n",
       "1                                 5   \n",
       "2                                 0   \n",
       "3                                 0   \n",
       "4                                 7   \n",
       "5                                 0   \n",
       "6                                 6   \n",
       "7                                10   \n",
       "8                                 9   \n",
       "9                                 0   \n",
       "\n",
       "   ¿Cuantos chocolates consume en una semana?  ¿Compraria un chocolate azul?  \n",
       "0                                           6                              1  \n",
       "1                                           2                              0  \n",
       "2                                           0                              0  \n",
       "3                                           0                              1  \n",
       "4                                           4                              0  \n",
       "5                                           0                              1  \n",
       "6                                           3                              1  \n",
       "7                                           7                              0  \n",
       "8                                           5                              1  \n",
       "9                                           0                              0  "
      ]
     },
     "execution_count": 27,
     "metadata": {},
     "output_type": "execute_result"
    }
   ],
   "source": [
    "dataset"
   ]
  },
  {
   "cell_type": "code",
   "execution_count": 28,
   "metadata": {},
   "outputs": [],
   "source": [
    "dataset = dataset.drop(['Nombre','Apellido'],axis=1)"
   ]
  },
  {
   "cell_type": "code",
   "execution_count": 29,
   "metadata": {},
   "outputs": [],
   "source": [
    "dataset = dataset[(dataset[[\"¿Le gusta el chocolate?\"]] != 0).all(axis=1)]"
   ]
  },
  {
   "cell_type": "code",
   "execution_count": 30,
   "metadata": {},
   "outputs": [
    {
     "data": {
      "text/html": [
       "<div>\n",
       "<style scoped>\n",
       "    .dataframe tbody tr th:only-of-type {\n",
       "        vertical-align: middle;\n",
       "    }\n",
       "\n",
       "    .dataframe tbody tr th {\n",
       "        vertical-align: top;\n",
       "    }\n",
       "\n",
       "    .dataframe thead th {\n",
       "        text-align: right;\n",
       "    }\n",
       "</style>\n",
       "<table border=\"1\" class=\"dataframe\">\n",
       "  <thead>\n",
       "    <tr style=\"text-align: right;\">\n",
       "      <th></th>\n",
       "      <th>Edad</th>\n",
       "      <th>Genero</th>\n",
       "      <th>¿Le gusta el chocolate?</th>\n",
       "      <th>¿Del 1 al 10 que tanto le gusta?</th>\n",
       "      <th>¿Cuantos chocolates consume en una semana?</th>\n",
       "      <th>¿Compraria un chocolate azul?</th>\n",
       "    </tr>\n",
       "  </thead>\n",
       "  <tbody>\n",
       "    <tr>\n",
       "      <th>0</th>\n",
       "      <td>12</td>\n",
       "      <td>1</td>\n",
       "      <td>1</td>\n",
       "      <td>9</td>\n",
       "      <td>6</td>\n",
       "      <td>1</td>\n",
       "    </tr>\n",
       "    <tr>\n",
       "      <th>1</th>\n",
       "      <td>23</td>\n",
       "      <td>0</td>\n",
       "      <td>1</td>\n",
       "      <td>5</td>\n",
       "      <td>2</td>\n",
       "      <td>0</td>\n",
       "    </tr>\n",
       "    <tr>\n",
       "      <th>4</th>\n",
       "      <td>19</td>\n",
       "      <td>1</td>\n",
       "      <td>1</td>\n",
       "      <td>7</td>\n",
       "      <td>4</td>\n",
       "      <td>0</td>\n",
       "    </tr>\n",
       "    <tr>\n",
       "      <th>6</th>\n",
       "      <td>14</td>\n",
       "      <td>0</td>\n",
       "      <td>1</td>\n",
       "      <td>6</td>\n",
       "      <td>3</td>\n",
       "      <td>1</td>\n",
       "    </tr>\n",
       "    <tr>\n",
       "      <th>7</th>\n",
       "      <td>18</td>\n",
       "      <td>0</td>\n",
       "      <td>1</td>\n",
       "      <td>10</td>\n",
       "      <td>7</td>\n",
       "      <td>0</td>\n",
       "    </tr>\n",
       "    <tr>\n",
       "      <th>8</th>\n",
       "      <td>21</td>\n",
       "      <td>1</td>\n",
       "      <td>1</td>\n",
       "      <td>9</td>\n",
       "      <td>5</td>\n",
       "      <td>1</td>\n",
       "    </tr>\n",
       "  </tbody>\n",
       "</table>\n",
       "</div>"
      ],
      "text/plain": [
       "   Edad  Genero  ¿Le gusta el chocolate?  ¿Del 1 al 10 que tanto le gusta?  \\\n",
       "0    12       1                        1                                 9   \n",
       "1    23       0                        1                                 5   \n",
       "4    19       1                        1                                 7   \n",
       "6    14       0                        1                                 6   \n",
       "7    18       0                        1                                10   \n",
       "8    21       1                        1                                 9   \n",
       "\n",
       "   ¿Cuantos chocolates consume en una semana?  ¿Compraria un chocolate azul?  \n",
       "0                                           6                              1  \n",
       "1                                           2                              0  \n",
       "4                                           4                              0  \n",
       "6                                           3                              1  \n",
       "7                                           7                              0  \n",
       "8                                           5                              1  "
      ]
     },
     "execution_count": 30,
     "metadata": {},
     "output_type": "execute_result"
    }
   ],
   "source": [
    "dataset"
   ]
  },
  {
   "cell_type": "markdown",
   "metadata": {},
   "source": [
    "#### bolita roja"
   ]
  },
  {
   "cell_type": "code",
   "execution_count": 31,
   "metadata": {},
   "outputs": [],
   "source": [
    "edad=dataset[\"Edad\"]"
   ]
  },
  {
   "cell_type": "code",
   "execution_count": 32,
   "metadata": {},
   "outputs": [
    {
     "data": {
      "text/plain": [
       "0    12\n",
       "1    23\n",
       "4    19\n",
       "6    14\n",
       "7    18\n",
       "8    21\n",
       "Name: Edad, dtype: int64"
      ]
     },
     "execution_count": 32,
     "metadata": {},
     "output_type": "execute_result"
    }
   ],
   "source": [
    "edad"
   ]
  },
  {
   "cell_type": "code",
   "execution_count": 33,
   "metadata": {},
   "outputs": [
    {
     "data": {
      "text/plain": [
       "pandas.core.series.Series"
      ]
     },
     "execution_count": 33,
     "metadata": {},
     "output_type": "execute_result"
    }
   ],
   "source": [
    "type(edad)"
   ]
  },
  {
   "cell_type": "code",
   "execution_count": 34,
   "metadata": {},
   "outputs": [],
   "source": [
    "edad = edad.to_numpy()"
   ]
  },
  {
   "cell_type": "code",
   "execution_count": 35,
   "metadata": {},
   "outputs": [
    {
     "data": {
      "text/plain": [
       "array([12, 23, 19, 14, 18, 21])"
      ]
     },
     "execution_count": 35,
     "metadata": {},
     "output_type": "execute_result"
    }
   ],
   "source": [
    "edad"
   ]
  },
  {
   "cell_type": "code",
   "execution_count": 36,
   "metadata": {},
   "outputs": [
    {
     "data": {
      "text/plain": [
       "12"
      ]
     },
     "execution_count": 36,
     "metadata": {},
     "output_type": "execute_result"
    }
   ],
   "source": [
    "edad[0]"
   ]
  },
  {
   "cell_type": "code",
   "execution_count": 37,
   "metadata": {},
   "outputs": [],
   "source": [
    "rank =  dataset[\"¿Del 1 al 10 que tanto le gusta?\"]"
   ]
  },
  {
   "cell_type": "code",
   "execution_count": 38,
   "metadata": {},
   "outputs": [],
   "source": [
    "rank =  rank.to_numpy()"
   ]
  },
  {
   "cell_type": "code",
   "execution_count": 39,
   "metadata": {},
   "outputs": [
    {
     "data": {
      "text/plain": [
       "array([ 9,  5,  7,  6, 10,  9])"
      ]
     },
     "execution_count": 39,
     "metadata": {},
     "output_type": "execute_result"
    }
   ],
   "source": [
    "rank"
   ]
  },
  {
   "cell_type": "code",
   "execution_count": 40,
   "metadata": {},
   "outputs": [],
   "source": [
    "num_helados = dataset[\"¿Cuantos chocolates consume en una semana?\"]"
   ]
  },
  {
   "cell_type": "code",
   "execution_count": 41,
   "metadata": {},
   "outputs": [],
   "source": [
    "num_helados=num_helados.to_numpy()"
   ]
  },
  {
   "cell_type": "code",
   "execution_count": 42,
   "metadata": {},
   "outputs": [
    {
     "data": {
      "text/plain": [
       "array([6, 2, 4, 3, 7, 5])"
      ]
     },
     "execution_count": 42,
     "metadata": {},
     "output_type": "execute_result"
    }
   ],
   "source": [
    "num_helados"
   ]
  },
  {
   "cell_type": "code",
   "execution_count": 43,
   "metadata": {},
   "outputs": [],
   "source": [
    "x = rank\n",
    "y = num_helados"
   ]
  },
  {
   "cell_type": "code",
   "execution_count": 44,
   "metadata": {},
   "outputs": [],
   "source": [
    "import matplotlib.pyplot as plt"
   ]
  },
  {
   "cell_type": "code",
   "execution_count": 45,
   "metadata": {},
   "outputs": [
    {
     "data": {
      "image/png": "[encoded data removed]",
      "text/plain": [
       "<Figure size 432x288 with 1 Axes>"
      ]
     },
     "metadata": {
      "needs_background": "light"
     },
     "output_type": "display_data"
    }
   ],
   "source": [
    "plt.scatter(x,y)\n",
    "plt.show()"
   ]
  },
  {
   "cell_type": "markdown",
   "metadata": {},
   "source": [
    "## Saltar esto de ser necesario"
   ]
  },
  {
   "cell_type": "code",
   "execution_count": 57,
   "metadata": {},
   "outputs": [
    {
     "name": "stdout",
     "output_type": "stream",
     "text": [
      "La media del error cuadrado es:  23.166666666666668\n",
      "La media del error cuadrado es:  16.286666666666665\n",
      "La media del error cuadrado es:  10.646666666666667\n",
      "La media del error cuadrado es:  6.246666666666665\n",
      "La media del error cuadrado es:  3.0866666666666664\n",
      "La media del error cuadrado es:  1.1666666666666667\n",
      "La media del error cuadrado es:  0.48666666666666664\n",
      "La media del error cuadrado es:  1.0466666666666675\n",
      "La media del error cuadrado es:  2.8466666666666676\n",
      "La media del error cuadrado es:  5.886666666666667\n",
      "La media del error cuadrado es:  10.166666666666666\n",
      "La media del error cuadrado es:  15.68666666666667\n",
      "La media del error cuadrado es:  22.446666666666676\n",
      "La media del error cuadrado es:  30.446666666666673\n",
      "La media del error cuadrado es:  39.68666666666668\n",
      "La media del error cuadrado es:  50.166666666666664\n",
      "La media del error cuadrado es:  61.88666666666668\n",
      "La media del error cuadrado es:  74.84666666666668\n",
      "La media del error cuadrado es:  89.04666666666667\n",
      "La media del error cuadrado es:  104.48666666666668\n",
      "La media del error cuadrado es:  121.16666666666667\n",
      "La media del error cuadrado es:  139.0866666666667\n",
      "La media del error cuadrado es:  158.24666666666667\n",
      "La media del error cuadrado es:  178.64666666666673\n",
      "La media del error cuadrado es:  200.28666666666672\n",
      "La media del error cuadrado es:  223.16666666666666\n",
      "La media del error cuadrado es:  247.28666666666672\n",
      "La media del error cuadrado es:  272.6466666666667\n",
      "La media del error cuadrado es:  299.2466666666667\n",
      "La media del error cuadrado es:  327.08666666666676\n",
      "La media del error cuadrado es:  356.1666666666667\n",
      "La media del error cuadrado es:  386.4866666666667\n",
      "La media del error cuadrado es:  418.0466666666667\n",
      "La media del error cuadrado es:  450.84666666666675\n",
      "La media del error cuadrado es:  484.8866666666667\n",
      "La media del error cuadrado es:  520.1666666666666\n",
      "La media del error cuadrado es:  556.6866666666666\n",
      "La media del error cuadrado es:  594.4466666666668\n",
      "La media del error cuadrado es:  633.4466666666667\n",
      "La media del error cuadrado es:  673.6866666666668\n",
      "La media del error cuadrado es:  715.1666666666666\n",
      "0.48666666666666664\n",
      "0.6000000000000001\n"
     ]
    }
   ],
   "source": [
    "eje_error = []\n",
    "eje_w = []\n",
    "\n",
    "tam = len(x)\n",
    "for w in np.arange(0.0,4.1,0.1):\n",
    "    l = 0\n",
    "    for i in range(0,tam):\n",
    "        y_p = x[i]*w\n",
    "\n",
    "        l = l+((y[i] - y_p)**2)\n",
    "        mse = l/tam\n",
    "        #print(y_p)\n",
    "    eje_error.append(mse)\n",
    "    eje_w.append(w)\n",
    "    print(\"La media del error cuadrado es: \",mse)\n",
    "min_error = eje_error.index(min(eje_error))\n",
    "print(eje_error[min_error])\n",
    "valor_w_final =  eje_w[min_error]\n",
    "print(valor_w_final)\n"
   ]
  },
  {
   "cell_type": "code",
   "execution_count": 58,
   "metadata": {},
   "outputs": [
    {
     "data": {
      "image/png": "[encoded data removed]",
      "text/plain": [
       "<Figure size 432x288 with 1 Axes>"
      ]
     },
     "metadata": {
      "needs_background": "light"
     },
     "output_type": "display_data"
    }
   ],
   "source": [
    "import matplotlib.pyplot as plt\n",
    "%matplotlib inline\n",
    "plt.plot(eje_w, eje_error)\n",
    "\n",
    "plt.show()"
   ]
  },
  {
   "cell_type": "code",
   "execution_count": 59,
   "metadata": {},
   "outputs": [
    {
     "data": {
      "text/plain": [
       "[<matplotlib.lines.Line2D at 0x1a22e5f5f8>]"
      ]
     },
     "execution_count": 59,
     "metadata": {},
     "output_type": "execute_result"
    },
    {
     "data": {
      "image/png": "[encoded data removed]",
      "text/plain": [
       "<Figure size 432x288 with 1 Axes>"
      ]
     },
     "metadata": {
      "needs_background": "light"
     },
     "output_type": "display_data"
    }
   ],
   "source": [
    "prediccion_y =valor_w_final*x\n",
    "plt.scatter(x, y)\n",
    "plt.plot(x, prediccion_y)"
   ]
  },
  {
   "cell_type": "code",
   "execution_count": 60,
   "metadata": {},
   "outputs": [],
   "source": [
    "def predecir(x,valor_w_final):\n",
    "    prediccion_y =valor_w_final*x\n",
    "    return prediccion_y.round()\n",
    "    "
   ]
  },
  {
   "cell_type": "code",
   "execution_count": 61,
   "metadata": {},
   "outputs": [
    {
     "data": {
      "text/plain": [
       "3.0"
      ]
     },
     "execution_count": 61,
     "metadata": {},
     "output_type": "execute_result"
    }
   ],
   "source": [
    "predecir(5,valor_w_final)"
   ]
  },
  {
   "cell_type": "markdown",
   "metadata": {},
   "source": [
    "## ARBOL DE DECISIÓN\n"
   ]
  },
  {
   "cell_type": "code",
   "execution_count": 51,
   "metadata": {},
   "outputs": [
    {
     "data": {
      "text/plain": [
       "array([12, 23, 19, 14, 18, 21])"
      ]
     },
     "execution_count": 51,
     "metadata": {},
     "output_type": "execute_result"
    }
   ],
   "source": [
    "edad"
   ]
  },
  {
   "cell_type": "code",
   "execution_count": 52,
   "metadata": {},
   "outputs": [
    {
     "data": {
      "text/plain": [
       "array([6, 2, 4, 3, 7, 5])"
      ]
     },
     "execution_count": 52,
     "metadata": {},
     "output_type": "execute_result"
    }
   ],
   "source": [
    "y"
   ]
  },
  {
   "cell_type": "code",
   "execution_count": 53,
   "metadata": {},
   "outputs": [
    {
     "name": "stdout",
     "output_type": "stream",
     "text": [
      "[[12, 6], [23, 2], [19, 4], [14, 3], [18, 7], [21, 5]]\n"
     ]
    }
   ],
   "source": [
    "lista= []\n",
    "tam = len(x)\n",
    "for i in range (tam):\n",
    "    lista.append([edad[i],y[i]])\n",
    "print(lista)"
   ]
  },
  {
   "cell_type": "code",
   "execution_count": 54,
   "metadata": {},
   "outputs": [],
   "source": [
    "lista_y = dataset[\"¿Compraria un chocolate azul?\"]"
   ]
  },
  {
   "cell_type": "code",
   "execution_count": 55,
   "metadata": {},
   "outputs": [],
   "source": [
    "lista_y =  lista_y.to_numpy()"
   ]
  },
  {
   "cell_type": "code",
   "execution_count": 56,
   "metadata": {},
   "outputs": [
    {
     "name": "stdout",
     "output_type": "stream",
     "text": [
      "[1]\n"
     ]
    }
   ],
   "source": [
    "\n",
    "from sklearn import tree\n",
    "clf =  tree.DecisionTreeClassifier()\n",
    "clf = clf.fit(lista,lista_y)\n",
    "print(clf.predict([[21,7]]))\n"
   ]
  }
 ],
 "metadata": {
  "kernelspec": {
   "display_name": "Python 3",
   "language": "python",
   "name": "python3"
  },
  "language_info": {
   "codemirror_mode": {
    "name": "ipython",
    "version": 3
   },
   "file_extension": ".py",
   "mimetype": "text/x-python",
   "name": "python",
   "nbconvert_exporter": "python",
   "pygments_lexer": "ipython3",
   "version": "3.6.6"
  }
 },
 "nbformat": 4,
 "nbformat_minor": 2
}
